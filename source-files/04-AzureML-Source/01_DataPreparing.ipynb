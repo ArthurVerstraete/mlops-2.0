{
  "cells": [
    {
      "cell_type": "markdown",
      "metadata": {
        "nteract": {
          "transient": {
            "deleting": false
          }
        }
      },
      "source": [
        "# DataPreparing\n",
        "\n",
        "THe first step of our notebooks will be to run a DataPreparing script.  \n",
        "This contains all the necessary code to transform our original images into images that are ready for AI training.  \n",
        "\n",
        "To benefit from the perks of our Azure cloud service, we will be creating a new dataset to store our processed images.\n",
        "\n",
        "Follow along in the HackMD documents to answer some questions introduced in these notebooks.\n",
        "\n",
        "If you want more background information on these notebooks, the HackMD documents will help you as well."
      ]
    },
    {
      "cell_type": "markdown",
      "metadata": {
        "nteract": {
          "transient": {
            "deleting": false
          }
        }
      },
      "source": [
        "## Setup\n",
        "\n",
        "Our virtual machine might not have all packages installed yet. So let's go and install some packages.  \n",
        "We can use cell-magic for this, which will allow us to stay inside this notebook and just executing the cells.  \n",
        "\n",
        "Later on, these cells might nog be necessary anymore, which is why we include it at the top. During other builds, you can just ignore these.\n",
        "\n",
        "As a best practice, let's make sure to only work on the version we know is safe. This is a great way to organising our AI projects. By keeping the versions linked like this, no unexpected new version would break our code!"
      ]
    },
    {
      "cell_type": "code",
      "execution_count": null,
      "metadata": {
        "jupyter": {
          "outputs_hidden": false,
          "source_hidden": false
        },
        "nteract": {
          "transient": {
            "deleting": false
          }
        }
      },
      "outputs": [],
      "source": [
        "%%writefile requirements.txt\n",
        "\n",
        "opencv-python==4.5.4.60"
      ]
    },
    {
      "cell_type": "code",
      "execution_count": null,
      "metadata": {
        "gather": {
          "logged": 1683228150131
        },
        "jupyter": {
          "outputs_hidden": false,
          "source_hidden": false
        },
        "nteract": {
          "transient": {
            "deleting": false
          }
        }
      },
      "outputs": [],
      "source": [
        "# We want to make sure to use the right AzureML packages!\n",
        "!/anaconda/envs/azureml_py38_PT_TF/bin/python -m pip install -r requirements.txt"
      ]
    },
    {
      "cell_type": "code",
      "execution_count": null,
      "metadata": {
        "gather": {
          "logged": 1683228158883
        }
      },
      "outputs": [],
      "source": [
        "# This cell can be used to fill in some values that you will be referring to in the coming cells\n",
        "train_test_split_factor = 0.20"
      ]
    },
    {
      "cell_type": "code",
      "execution_count": null,
      "metadata": {
        "gather": {
          "logged": 1683228167480
        }
      },
      "outputs": [],
      "source": [
        "# Importing the default packages for data processing and visualisation\n",
        "import numpy as np # Used to process our images in a data-format\n",
        "import matplotlib.pyplot as plt # visualise the images\n",
        "import cv2 # Process the images\n",
        "\n",
        "\n",
        "import os\n",
        "from glob import glob\n",
        "import math\n",
        "\n",
        "import warnings\n",
        "warnings.filterwarnings(\"ignore\") # Warnings that can be ignored will be ignored\n",
        "\n",
        "import random\n",
        "SEED = 42 # Everytime you want to randomize items, use this `random.seed(SEED)` option. This way, you are always having the same randomization as I have.\n",
        "random.seed(SEED)"
      ]
    },
    {
      "cell_type": "code",
      "execution_count": null,
      "metadata": {
        "gather": {
          "logged": 1683228168522
        },
        "jupyter": {
          "outputs_hidden": false,
          "source_hidden": false
        },
        "nteract": {
          "transient": {
            "deleting": false
          }
        }
      },
      "outputs": [],
      "source": [
        "# Import AzureML packages\n",
        "from azureml.core import Workspace\n",
        "from azureml.core import Dataset\n",
        "from azureml.data.datapath import DataPath\n",
        "from azureml.core.compute import AmlCompute\n",
        "from azureml.core.compute import ComputeTarget"
      ]
    },
    {
      "cell_type": "markdown",
      "metadata": {},
      "source": [
        "## Step 1: Connecting to the Azure ML Workspace\n",
        "\n",
        "Azure Machine Learning needs to connect through the Azure SDK with the Workspace object. This contains all the information inside of this 'Laboratory'"
      ]
    },
    {
      "cell_type": "markdown",
      "metadata": {
        "nteract": {
          "transient": {
            "deleting": false
          }
        }
      },
      "source": [
        "The information below should reflect your situation regarding Azure. You should have a ResourceGroup called '04_AzureML' and a workspace name called 'segersnathan' if you followed my instructions on HackMD.\n",
        "The subscription ID, however, is something that has been created by Azure itself.\n",
        "\n",
        "Luckily, this ML studio gives us a quick way to find this information.\n",
        "Click on the \\/-arrow in the upper-right corner over there ↗️, next to your profile picture.\n",
        "\n",
        "Most of your information is in there as well, but you still can't find your subscription_**id** there ...\n",
        "\n",
        "Press the 'Download config' option, and you'll be left with this information:\n",
        "\n",
        "```json\n",
        "{\n",
        "    \"subscription_id\": \"7c50f9c3-289b-4ae0-a075-08784b3b9042\",\n",
        "    \"resource_group\": \"NathanReserve\",\n",
        "    \"workspace_name\": \"segersnathan\"\n",
        "}\n",
        "```\n",
        "\n",
        "Which gives you exactly the information you need 🥰\n",
        "\n",
        "There's also an option to use this configuration itself. Search for the documentation on how to do it: https://docs.microsoft.com/en-us/python/api/azureml-core/azureml.core.workspace(class)?view=azure-ml-py\n"
      ]
    },
    {
      "cell_type": "code",
      "execution_count": null,
      "metadata": {
        "gather": {
          "logged": 1683228235753
        }
      },
      "outputs": [],
      "source": [
        "## Either get environment variables, or a fallback name, which is the second parameter.\n",
        "## Currently, fill in the fallback values. Later on, we will make sure to work with Environment values. So we're already preparing for it in here!\n",
        "workspace_name = os.environ.get('WORKSPACE', 'azure-ai-training')\n",
        "subscription_id = os.environ.get('SUBSCRIPTION_ID', '763622cd-d9e1-46f1-84c7-635df9708641')\n",
        "resource_group = os.environ.get('RESOURCE_GROUP', 'mlops-nathansegers')"
      ]
    },
    {
      "cell_type": "code",
      "execution_count": null,
      "metadata": {
        "gather": {
          "logged": 1683228238210
        }
      },
      "outputs": [],
      "source": [
        "ws = Workspace.get(name=workspace_name,\n",
        "               subscription_id=subscription_id,\n",
        "               resource_group=resource_group)"
      ]
    },
    {
      "cell_type": "code",
      "execution_count": null,
      "metadata": {
        "gather": {
          "logged": 1683228240059
        },
        "jupyter": {
          "outputs_hidden": false,
          "source_hidden": false
        },
        "nteract": {
          "transient": {
            "deleting": false
          }
        }
      },
      "outputs": [],
      "source": [
        "ws"
      ]
    },
    {
      "cell_type": "markdown",
      "metadata": {},
      "source": [
        "## Step 2 -- Data preparing\n",
        "\n",
        "Let's get started preparing our data.\n",
        "The original dataset contains images of Cats, Dogs and Pandas, but are not yet ready for AI processing.\n",
        "They are all different shapes and sizes, so they need to be processed.\n",
        "\n",
        "I could've done it earlier on and given you the processed data, but that's not really that fun, isn't it 😉\n",
        "\n",
        "By performing these steps, you see how you can create datasets in a Programmatoric way, and upload new data.\n",
        "We will make use of the Azure Machine Learning tools to easily manage all of our datasets in a structured way.\n",
        "\n",
        "## Step 2.1 -- Checking our data\n",
        "\n",
        "Let us first explore how the data looks. We'll create 3 subdirectories under a data directory, one for each animal.\n",
        "If you want to update this to more animals later, simply adapt the `ANIMALS` list."
      ]
    },
    {
      "cell_type": "code",
      "execution_count": null,
      "metadata": {
        "gather": {
          "logged": 1683228933970
        }
      },
      "outputs": [],
      "source": [
        "ANIMALS = ['cats', 'dogs', 'pandas'] # As we have three classes, let's just defined them hoor. This way we can easily loop over them later.\n",
        "# We can also work with ENUM's if you want another fun way of accessing properties:\n",
        "# Feel free to uncomment these lines, I won't work with them, but you can always do so if yoi prefer\n",
        "\n",
        "\n",
        "# from enum import Enum\n",
        "# Animals = Enum('Animal', 'CATS DOGS PANDAS')\n",
        "\n",
        "# print(list(Animals))\n",
        "# print(Animals.CATS.name.lower()) # You can always get their effective string values this way"
      ]
    },
    {
      "cell_type": "markdown",
      "metadata": {
        "nteract": {
          "transient": {
            "deleting": false
          }
        }
      },
      "source": [
        "We will need to create temporary directories to store the images while we process them.\n",
        "This script will create a `data` folder, and then make subdirectories for each animal."
      ]
    },
    {
      "cell_type": "code",
      "execution_count": null,
      "metadata": {
        "gather": {
          "logged": 1683228937796
        }
      },
      "outputs": [],
      "source": [
        "data_folder = os.path.join(os.getcwd(), 'data')\n",
        "os.makedirs(data_folder, exist_ok=True)\n",
        "for animal_name in ANIMALS:\n",
        "    os.makedirs(os.path.join(data_folder, 'animals', animal_name), exist_ok=True)"
      ]
    },
    {
      "cell_type": "code",
      "execution_count": null,
      "metadata": {
        "gather": {
          "logged": 1683228950116
        }
      },
      "outputs": [],
      "source": [
        "# Get all the datasets that were registered in the UI\n",
        "# We can then easily select the ones we need\n",
        "datasets = Dataset.get_all(workspace=ws) # Make sure to give our workspace with it\n",
        "print(datasets)"
      ]
    },
    {
      "cell_type": "markdown",
      "metadata": {
        "nteract": {
          "transient": {
            "deleting": false
          }
        }
      },
      "source": [
        "### **TODO for students**\n",
        "\n",
        "Write a check to see if we have our three datasets!!"
      ]
    },
    {
      "cell_type": "code",
      "execution_count": null,
      "metadata": {
        "gather": {
          "logged": 1640003202380
        },
        "jupyter": {
          "outputs_hidden": false,
          "source_hidden": false
        },
        "nteract": {
          "transient": {
            "deleting": false
          }
        }
      },
      "outputs": [],
      "source": [
        "# Write your answer here"
      ]
    },
    {
      "cell_type": "markdown",
      "metadata": {
        "nteract": {
          "transient": {
            "deleting": false
          }
        }
      },
      "source": [
        "Uncomment the next cell to show a possible answer"
      ]
    },
    {
      "cell_type": "code",
      "execution_count": null,
      "metadata": {
        "gather": {
          "logged": 1640003919490
        },
        "jupyter": {
          "outputs_hidden": false,
          "source_hidden": false
        },
        "nteract": {
          "transient": {
            "deleting": false
          }
        }
      },
      "outputs": [],
      "source": [
        "# %load code_solutions/CheckDatasets.txt"
      ]
    },
    {
      "cell_type": "code",
      "execution_count": null,
      "metadata": {
        "gather": {
          "logged": 1683228970566
        }
      },
      "outputs": [],
      "source": [
        "from typing import List\n",
        "def downloadTestImagesForAnimal(animal_name: str, amount_of_test_images: int) -> List[str]:\n",
        "    \"\"\"\n",
        "    Download test images from an Azure dataset.\n",
        "    Choose the amount of test images per animal you want.\n",
        "    The images will be downloaded to the `data/<animal>` directory\n",
        "\n",
        "    Parameters:\n",
        "        animal_name (str): The name of the dataset / animal to download images from\n",
        "        amount_of_test_images (int): The amount of test images to download\n",
        "    Returns:\n",
        "        file_paths (List[str]): list of file paths to display the images\n",
        "    \"\"\"\n",
        "    animal_dataset = datasets[animal_name]\n",
        "    test_images = animal_dataset.take(amount_of_test_images)\n",
        "    file_paths = test_images.download(os.path.join(data_folder, 'animals', animal_name), overwrite=True)\n",
        "    return file_paths\n",
        "\n",
        "def displayTestImages(images: List[str]) -> None:\n",
        "    fig, axes = plt.subplots(1, len(images), figsize=(12, 9), sharey=True)\n",
        "    axes_1d = axes.ravel()\n",
        "    for i in range(0, len(images)):    \n",
        "        axes_1d[i].imshow(plt.imread(images[i]), cmap='gray')\n",
        "        axes_1d[i].axis('off')\n",
        "        \n",
        "    plt.show()"
      ]
    },
    {
      "cell_type": "markdown",
      "metadata": {
        "nteract": {
          "transient": {
            "deleting": false
          }
        }
      },
      "source": [
        "Choose a number of images you want to show the users"
      ]
    },
    {
      "cell_type": "code",
      "execution_count": null,
      "metadata": {
        "gather": {
          "logged": 1683228985475
        }
      },
      "outputs": [],
      "source": [
        "animal_images = {}\n",
        "AMOUNT_OF_IMAGES = 5\n",
        "for animal_name in ANIMALS:\n",
        "    print(f\"Downloading {AMOUNT_OF_IMAGES} images of {animal_name}...\")\n",
        "    animal_images[animal_name] = {}\n",
        "    animal_images[animal_name]['images'] = downloadTestImagesForAnimal(animal_name, AMOUNT_OF_IMAGES)\n",
        "    "
      ]
    },
    {
      "cell_type": "code",
      "execution_count": null,
      "metadata": {
        "gather": {
          "logged": 1683228988610
        }
      },
      "outputs": [],
      "source": [
        "displayTestImages(animal_images['pandas']['images'])"
      ]
    },
    {
      "cell_type": "markdown",
      "metadata": {
        "nteract": {
          "transient": {
            "deleting": false
          }
        }
      },
      "source": [
        "### Step 2.2 Processing and uploading the resized images\n",
        "\n",
        "Like we said in the introduction, we'll need to resize the images so they're all the same shape and size.\n",
        "We are getting ready for a CNN model, which will require an input of 64, 64. You can go higher, but then it'll take longer to train, but also improve the accuracy."
      ]
    },
    {
      "cell_type": "code",
      "execution_count": null,
      "metadata": {
        "gather": {
          "logged": 1683229012417
        },
        "jupyter": {
          "outputs_hidden": false,
          "source_hidden": false
        },
        "nteract": {
          "transient": {
            "deleting": false
          }
        }
      },
      "outputs": [],
      "source": [
        "# Let's create a mounth point. Think of it like your D:/ drive on your PC\n",
        "mount_path = os.path.join('/home/azureuser/cloudfiles/data')\n",
        "os.makedirs(mount_path, exist_ok=True)"
      ]
    },
    {
      "cell_type": "code",
      "execution_count": null,
      "metadata": {
        "gather": {
          "logged": 1683229015465
        },
        "jupyter": {
          "outputs_hidden": false,
          "source_hidden": false
        },
        "nteract": {
          "transient": {
            "deleting": false
          }
        }
      },
      "outputs": [],
      "source": [
        "# Defien a path to store the animal images onto. We'll choose for `data/processed/animals` this time. Again, create subdirectories for all the animals\n",
        "processed_path = os.path.join(mount_path, 'processed', 'animals')\n",
        "os.makedirs(processed_path, exist_ok=True)\n",
        "for animal_name in ANIMALS:\n",
        "    os.makedirs(os.path.join(processed_path, animal_name), exist_ok=True)"
      ]
    },
    {
      "cell_type": "code",
      "execution_count": null,
      "metadata": {
        "gather": {
          "logged": 1683229017934
        },
        "jupyter": {
          "outputs_hidden": false,
          "source_hidden": false
        },
        "nteract": {
          "transient": {
            "deleting": false
          }
        }
      },
      "outputs": [],
      "source": [
        "# Defien a path to store the animal images onto. We'll choose for `data/processed/animals` this time. Again, create subdirectories for all the animals\n",
        "original_path = os.path.join(mount_path, 'original', 'animals')\n",
        "os.makedirs(original_path, exist_ok=True)\n",
        "for animal_name in ANIMALS:\n",
        "    os.makedirs(os.path.join(original_path, animal_name), exist_ok=True)"
      ]
    },
    {
      "cell_type": "code",
      "execution_count": null,
      "metadata": {
        "jupyter": {
          "outputs_hidden": false,
          "source_hidden": false
        },
        "nteract": {
          "transient": {
            "deleting": false
          }
        }
      },
      "outputs": [],
      "source": [
        "!ls $mount_path/original/animals/cats"
      ]
    },
    {
      "cell_type": "code",
      "execution_count": null,
      "metadata": {
        "gather": {
          "logged": 1683229064546
        },
        "jupyter": {
          "outputs_hidden": false,
          "source_hidden": false
        },
        "nteract": {
          "transient": {
            "deleting": false
          }
        }
      },
      "outputs": [],
      "source": [
        "def mountProcessAndUploadAnimalImages(animal_name):\n",
        "\n",
        "    # The mount context is to load in the dataset to our directory.\n",
        "    # Make sure to stop it when it's finished!\n",
        "\n",
        "    # Get the dataset name for this animal, then mount to the directory\n",
        "    mounted_context = datasets[animal_name].mount(os.path.join(mount_path, 'original', 'animals', animal_name))\n",
        "    print('Starting the Mount context, to get all the original images.')\n",
        "    mounted_context.start()\n",
        "\n",
        "    # Get all the image paths with the `glob()` method.\n",
        "    print(f'Resizing all images for {animal_name} ...')\n",
        "    imagePaths = glob(f\"{mount_path}/original/animals/{animal_name}/*.jpg\")\n",
        "\n",
        "    # Process all the images with OpenCV. Reading them, then resizing them to 64x64 and saving them once more.\n",
        "    print(f\"Processing {len(imagePaths)} images\")\n",
        "    for imagePath in imagePaths:\n",
        "        image = cv2.imread(imagePath)\n",
        "        image = cv2.resize(image, (64, 64)) # Resize to a square of 64, 64\n",
        "        cv2.imwrite(os.path.join(processed_path, animal_name, imagePath.split('/')[-1]), image)\n",
        "    print(f'... done resizing. Stopping context now...')\n",
        "    \n",
        "    # Upload the directory as a new dataset\n",
        "    print(f'Uploading directory now ...')\n",
        "    resized_dataset = Dataset.File.upload_directory(\n",
        "                        # Enter the sourece directory on our machine where the resized pictures are\n",
        "                        src_dir = os.path.join(processed_path, animal_name),\n",
        "                        # Create a DataPath reference where to store our images to. We'll use the default datastore for our workspace.\n",
        "                        target = DataPath(datastore=ws.get_default_datastore(), path_on_datastore=f'processed_animals/{animal_name}'),\n",
        "                        overwrite=True)\n",
        "    # Make sure to register the dataset whenever everything is uploaded.\n",
        "    resized_dataset.register(ws,\n",
        "                            name=f'resized_{animal_name}',\n",
        "                            description=f'{animal_name} images resized tot 64, 64',\n",
        "                            tags={'animals': animal_name, 'AI-Model': 'CNN'}, # Optional tags, can always be interesting to keep track of these!\n",
        "                            create_new_version=True)\n",
        "    print(f'... Done')\n",
        "    # Stop the context now.\n",
        "    mounted_context.stop()\n",
        "    print(f\"... Context stopped and freed.\")"
      ]
    },
    {
      "cell_type": "code",
      "execution_count": null,
      "metadata": {
        "jupyter": {
          "outputs_hidden": false,
          "source_hidden": false
        },
        "nteract": {
          "transient": {
            "deleting": false
          }
        }
      },
      "outputs": [],
      "source": [
        "# Use this cell in case you need to unmount the context during an issue. this can happen whenever the 'mountProcessAndUploadAnimalImages' function fails with an error ...\n",
        "#!sudo umount \"/home/azureuser/cloudfiles/data/original/animals/cats\""
      ]
    },
    {
      "cell_type": "code",
      "execution_count": null,
      "metadata": {
        "gather": {
          "logged": 1683229100654
        },
        "jupyter": {
          "outputs_hidden": false,
          "source_hidden": false
        },
        "nteract": {
          "transient": {
            "deleting": false
          }
        }
      },
      "outputs": [],
      "source": [
        "mountProcessAndUploadAnimalImages('cats')"
      ]
    },
    {
      "cell_type": "code",
      "execution_count": null,
      "metadata": {
        "gather": {
          "logged": 1640004384857
        },
        "jupyter": {
          "outputs_hidden": false,
          "source_hidden": false
        },
        "nteract": {
          "transient": {
            "deleting": false
          }
        }
      },
      "outputs": [],
      "source": [
        "%%time\n",
        "# Process all the animal images now. This can take a while!\n",
        "# We'll use Cell magic once more, to time how long this takes!\n",
        "# mountProcessAndUploadAnimalImages('cats')\n",
        "mountProcessAndUploadAnimalImages('dogs')\n",
        "mountProcessAndUploadAnimalImages('pandas')"
      ]
    },
    {
      "cell_type": "markdown",
      "metadata": {
        "nteract": {
          "transient": {
            "deleting": false
          }
        }
      },
      "source": [
        "Our Animal datasets are now registered onto the datasets of Azure, which is what we need. We can now safely delete all the images from our disk."
      ]
    },
    {
      "cell_type": "markdown",
      "metadata": {
        "nteract": {
          "transient": {
            "deleting": false
          }
        }
      },
      "source": [
        "### **TODO for students**\n",
        "\n",
        "Delete the images from disk in any way you want.\n"
      ]
    },
    {
      "cell_type": "code",
      "execution_count": null,
      "metadata": {
        "gather": {
          "logged": 1640004902146
        },
        "jupyter": {
          "outputs_hidden": false,
          "source_hidden": false
        },
        "nteract": {
          "transient": {
            "deleting": false
          }
        }
      },
      "outputs": [],
      "source": [
        "# Write your answer here"
      ]
    },
    {
      "cell_type": "markdown",
      "metadata": {
        "nteract": {
          "transient": {
            "deleting": false
          }
        }
      },
      "source": [
        "Uncomment the next cell to see a possible answer."
      ]
    },
    {
      "cell_type": "code",
      "execution_count": null,
      "metadata": {
        "gather": {
          "logged": 1683229284440
        },
        "jupyter": {
          "outputs_hidden": false,
          "source_hidden": false
        },
        "nteract": {
          "transient": {
            "deleting": false
          }
        }
      },
      "outputs": [],
      "source": [
        "# %load code_solutions/RemoveProcessedDirectories.txt"
      ]
    },
    {
      "cell_type": "markdown",
      "metadata": {
        "nteract": {
          "transient": {
            "deleting": false
          }
        }
      },
      "source": [
        "## Step 2.3 -- Create Training and Testing splitted data\n",
        "\n",
        "As you might remember from previous AI lessons, we want to split up our AI data in a batch of Training and Testing data, with the necessary labels.\n",
        "We will take a portion of our data to train on, and the rest will be kept to test and validate our AI model.\n",
        "\n",
        "For this, I chose a percentage in the first cell:\n",
        "`train_test_split_factor = 0.20`"
      ]
    },
    {
      "cell_type": "code",
      "execution_count": null,
      "metadata": {
        "gather": {
          "logged": 1683229313441
        },
        "jupyter": {
          "outputs_hidden": false,
          "source_hidden": false
        },
        "nteract": {
          "transient": {
            "deleting": false
          }
        }
      },
      "outputs": [],
      "source": [
        "training_datapaths = []\n",
        "testing_datapaths = []\n",
        "default_datastore = ws.get_default_datastore()\n",
        "for animal_name in ANIMALS:\n",
        "    # Get the dataset by name\n",
        "    animal_dataset = Dataset.get_by_name(ws, f\"resized_{animal_name}\")\n",
        "\n",
        "    # Get only the .JPG images\n",
        "    animal_images = [img for img in animal_dataset.to_path() if img.split('.')[-1] == 'jpg']\n",
        "\n",
        "    ## Concatenate the names for the animal_name and the img_path. Don't put a / between, because the img_path already contains that\n",
        "    animal_images = [(default_datastore, f'processed_animals/{animal_name}{img_path}') for img_path in animal_images] # Make sure the paths are actual DataPaths\n",
        "    \n",
        "    random.seed(SEED) # Use the same random seed as I use and defined in the earlier cells\n",
        "    random.shuffle(animal_images) # Shuffle the data so it's randomized\n",
        "    \n",
        "    ## Testing images\n",
        "    amount_of_test_images = math.ceil(len(animal_images) * train_test_split_factor) # Get a small percentage of testing images\n",
        "\n",
        "    animal_test_images = animal_images[:amount_of_test_images]\n",
        "    animal_training_images = animal_images[amount_of_test_images:]\n",
        "    \n",
        "    # Add them all to the other ones\n",
        "    testing_datapaths.extend(animal_test_images)\n",
        "    training_datapaths.extend(animal_training_images)"
      ]
    },
    {
      "cell_type": "markdown",
      "metadata": {
        "nteract": {
          "transient": {
            "deleting": false
          }
        }
      },
      "source": [
        "### **TODO for students**\n",
        "\n",
        "Write assertions to see if you have 600 testing images in total, and 200 for each animal.  \n",
        "Update the values depending on your `train_test_split_factor` of course!\n",
        "\n",
        "\"What are Assertions?\"\n",
        "https://www.w3schools.com/python/ref_keyword_assert.asp"
      ]
    },
    {
      "cell_type": "code",
      "execution_count": null,
      "metadata": {
        "gather": {
          "logged": 1640004857612
        },
        "jupyter": {
          "outputs_hidden": false,
          "source_hidden": false
        },
        "nteract": {
          "transient": {
            "deleting": false
          }
        }
      },
      "outputs": [],
      "source": [
        "# Write your answer here"
      ]
    },
    {
      "cell_type": "markdown",
      "metadata": {
        "nteract": {
          "transient": {
            "deleting": false
          }
        }
      },
      "source": [
        "Uncomment the cell below to find a possible answer."
      ]
    },
    {
      "cell_type": "code",
      "execution_count": null,
      "metadata": {
        "gather": {
          "logged": 1640005170865
        },
        "jupyter": {
          "outputs_hidden": false,
          "source_hidden": false
        },
        "nteract": {
          "transient": {
            "deleting": false
          }
        }
      },
      "outputs": [],
      "source": [
        "# %load code_solutions/Assertions.txt"
      ]
    },
    {
      "cell_type": "markdown",
      "metadata": {
        "nteract": {
          "transient": {
            "deleting": false
          }
        }
      },
      "source": [
        "### Step 2.4 -- Register Training and Testing Dataset\n",
        "\n",
        "We don't need to re-upload our images, but we do need to register our Training and Testing datasets as well."
      ]
    },
    {
      "cell_type": "code",
      "execution_count": null,
      "metadata": {
        "gather": {
          "logged": 1683229333434
        },
        "jupyter": {
          "outputs_hidden": false,
          "source_hidden": false
        },
        "nteract": {
          "transient": {
            "deleting": false
          }
        }
      },
      "outputs": [],
      "source": [
        "testing_datapaths[:2]"
      ]
    },
    {
      "cell_type": "code",
      "execution_count": null,
      "metadata": {
        "gather": {
          "logged": 1683229363291
        },
        "jupyter": {
          "outputs_hidden": false,
          "source_hidden": false
        },
        "nteract": {
          "transient": {
            "deleting": false
          }
        }
      },
      "outputs": [],
      "source": [
        "training_dataset = Dataset.File.from_files(path=training_datapaths)\n",
        "testing_dataset = Dataset.File.from_files(path=testing_datapaths)\n",
        "\n",
        "training_dataset = training_dataset.register(ws,\n",
        "    name=f'animals-training-set',\n",
        "    description=f'The Animal Images to train, resized tot 64, 64',\n",
        "    tags={'animals': ','.join(ANIMALS), 'AI-Model': 'CNN', 'Split size': str(1 - train_test_split_factor), 'type': 'training'},\n",
        "    create_new_version=True)\n",
        "\n",
        "testing_dataset = testing_dataset.register(ws,\n",
        "    name=f'animals-testing-set',\n",
        "    description=f'The Animal Images to test, resized tot 64, 64',\n",
        "    tags={'animals': ','.join(ANIMALS), 'AI-Model': 'CNN', 'Split size': str(train_test_split_factor), 'type': 'testing'},\n",
        "    create_new_version=True)"
      ]
    },
    {
      "cell_type": "markdown",
      "metadata": {
        "nteract": {
          "transient": {
            "deleting": false
          }
        }
      },
      "source": [
        "## Finalizing\n",
        "\n",
        "Now that we have all our datasets uploaded, we can continue to the next notebook where we will learn how to Train an AI model into Azure Machine Learning."
      ]
    },
    {
      "cell_type": "code",
      "execution_count": null,
      "metadata": {
        "gather": {
          "logged": 1683229388375
        },
        "jupyter": {
          "outputs_hidden": false,
          "source_hidden": false
        },
        "nteract": {
          "transient": {
            "deleting": false
          }
        }
      },
      "outputs": [],
      "source": [
        "# One last check for the dataset.\n",
        "Dataset.get_all(ws)"
      ]
    },
    {
      "cell_type": "code",
      "execution_count": null,
      "metadata": {
        "jupyter": {
          "outputs_hidden": false,
          "source_hidden": false
        },
        "nteract": {
          "transient": {
            "deleting": false
          }
        }
      },
      "outputs": [],
      "source": []
    }
  ],
  "metadata": {
    "kernel_info": {
      "name": "python38-azureml-pt-tf"
    },
    "kernelspec": {
      "display_name": "mlops",
      "language": "python",
      "name": "python3"
    },
    "language_info": {
      "codemirror_mode": {
        "name": "ipython",
        "version": 3
      },
      "file_extension": ".py",
      "mimetype": "text/x-python",
      "name": "python",
      "nbconvert_exporter": "python",
      "pygments_lexer": "ipython3",
      "version": "3.10.10"
    },
    "microsoft": {
      "host": {
        "AzureML": {
          "notebookHasBeenCompleted": true
        }
      },
      "ms_spell_check": {
        "ms_spell_check_language": "en"
      }
    },
    "nteract": {
      "version": "nteract-front-end@1.0.0"
    },
    "orig_nbformat": 4,
    "vscode": {
      "interpreter": {
        "hash": "1489b69aef9188e253991a72f2c1dcab719183ba23071189a69ddf1bcdf6e734"
      }
    }
  },
  "nbformat": 4,
  "nbformat_minor": 2
}
